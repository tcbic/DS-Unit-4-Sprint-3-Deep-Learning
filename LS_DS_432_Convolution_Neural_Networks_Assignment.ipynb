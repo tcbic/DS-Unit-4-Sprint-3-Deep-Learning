{
  "nbformat": 4,
  "nbformat_minor": 0,
  "metadata": {
    "kernelspec": {
      "display_name": "U4-S3-DNN (Python 3.7)",
      "language": "python",
      "name": "u4-s3-dnn"
    },
    "language_info": {
      "codemirror_mode": {
        "name": "ipython",
        "version": 3
      },
      "file_extension": ".py",
      "mimetype": "text/x-python",
      "name": "python",
      "nbconvert_exporter": "python",
      "pygments_lexer": "ipython3",
      "version": "3.7.3"
    },
    "colab": {
      "name": "LS_DS_432_Convolution_Neural_Networks_Assignment.ipynb",
      "provenance": [],
      "collapsed_sections": [],
      "toc_visible": true,
      "include_colab_link": true
    }
  },
  "cells": [
    {
      "cell_type": "markdown",
      "metadata": {
        "id": "view-in-github",
        "colab_type": "text"
      },
      "source": [
        "<a href=\"https://colab.research.google.com/github/tcbic/DS-Unit-4-Sprint-3-Deep-Learning/blob/master/LS_DS_432_Convolution_Neural_Networks_Assignment.ipynb\" target=\"_parent\"><img src=\"https://colab.research.google.com/assets/colab-badge.svg\" alt=\"Open In Colab\"/></a>"
      ]
    },
    {
      "cell_type": "markdown",
      "metadata": {
        "id": "juxtAc0x003-",
        "colab_type": "text"
      },
      "source": [
        "<img align=\"left\" src=\"https://lever-client-logos.s3.amazonaws.com/864372b1-534c-480e-acd5-9711f850815c-1524247202159.png\" width=200>\n",
        "<br></br>\n",
        "<br></br>\n",
        "\n",
        "## *Data Science Unit 4 Sprint 3 Assignment 2*\n",
        "# Convolutional Neural Networks (CNNs)"
      ]
    },
    {
      "cell_type": "markdown",
      "metadata": {
        "colab_type": "text",
        "id": "0lfZdD_cp1t5"
      },
      "source": [
        "# Assignment\n",
        "\n",
        "Load a pretrained network from Keras, [ResNet50](https://tfhub.dev/google/imagenet/resnet_v1_50/classification/1) - a 50 layer deep network trained to recognize [1000 objects](https://storage.googleapis.com/download.tensorflow.org/data/ImageNetLabels.txt). Starting usage:\n",
        "\n",
        "```python\n",
        "import numpy as np\n",
        "\n",
        "from tensorflow.keras.applications.resnet50 import ResNet50\n",
        "from tensorflow.keras.preprocessing import image\n",
        "from tensorflow.keras.applications.resnet50 import preprocess_input, decode_predictions\n",
        "\n",
        "ResNet50 = ResNet50(weights='imagenet')\n",
        "features = model.predict(x)\n",
        "\n",
        "```\n",
        "\n",
        "Next you will need to remove the last layer from the ResNet model. Here, we loop over the layers to use the sequential API. There are easier ways to add and remove layers using the Keras functional API, but doing so introduces other complexities. \n",
        "\n",
        "```python\n",
        "# Remote the Last Layer of ResNEt\n",
        "ResNet50._layers.pop(0)\n",
        "\n",
        "# Out New Model\n",
        "model = Sequential()\n",
        "\n",
        "# Add Pre-trained layers of Old Model to New Model\n",
        "for layer in ResNet50.layers:\n",
        "    model.add(layer)\n",
        "\n",
        "# Turn off additional training of ResNet Layers for speed of assignment\n",
        "for layer in model.layers:\n",
        "    layer.trainable = False\n",
        "\n",
        "# Add New Output Layer to Model\n",
        "model.add(Dense(1, activation='sigmoid'))\n",
        "```\n",
        "\n",
        "Your assignment is to apply the transfer learning above to classify images of Mountains (`./data/mountain/*`) and images of forests (`./data/forest/*`). Treat mountains as the postive class (1) and the forest images as the negative (zero). \n",
        "\n",
        "Steps to complete assignment: \n",
        "1. Load in Image Data into numpy arrays (`X`) \n",
        "2. Create a `y` for the labels\n",
        "3. Train your model with pretrained layers from resnet\n",
        "4. Report your model's accuracy"
      ]
    },
    {
      "cell_type": "code",
      "metadata": {
        "id": "IXNQmDMn004I",
        "colab_type": "code",
        "colab": {
          "base_uri": "https://localhost:8080/",
          "height": 1000
        },
        "outputId": "7364e027-0132-4ffc-d99e-dfbac97d46e2"
      },
      "source": [
        "!unzip forest.zip"
      ],
      "execution_count": 1,
      "outputs": [
        {
          "output_type": "stream",
          "text": [
            "Archive:  forest.zip\n",
            "  inflating: forest/art114.jpg       \n",
            "  inflating: forest/bost100.jpg      \n",
            "  inflating: forest/bost101.jpg      \n",
            "  inflating: forest/bost102.jpg      \n",
            "  inflating: forest/bost103.jpg      \n",
            "  inflating: forest/bost190.jpg      \n",
            "  inflating: forest/bost98.jpg       \n",
            "  inflating: forest/cdmc101.jpg      \n",
            "  inflating: forest/cdmc12.jpg       \n",
            "  inflating: forest/cdmc271.jpg      \n",
            "  inflating: forest/cdmc277.jpg      \n",
            "  inflating: forest/cdmc278.jpg      \n",
            "  inflating: forest/cdmc280.jpg      \n",
            "  inflating: forest/cdmc281.jpg      \n",
            "  inflating: forest/cdmc282.jpg      \n",
            "  inflating: forest/cdmc283.jpg      \n",
            "  inflating: forest/cdmc284.jpg      \n",
            "  inflating: forest/cdmc290.jpg      \n",
            "  inflating: forest/cdmc291.jpg      \n",
            "  inflating: forest/cdmc292.jpg      \n",
            "  inflating: forest/cdmc293.jpg      \n",
            "  inflating: forest/cdmc306.jpg      \n",
            "  inflating: forest/cdmc313.jpg      \n",
            "  inflating: forest/cdmc315.jpg      \n",
            "  inflating: forest/cdmc317.jpg      \n",
            "  inflating: forest/cdmc318.jpg      \n",
            "  inflating: forest/cdmc319.jpg      \n",
            "  inflating: forest/cdmc331.jpg      \n",
            "  inflating: forest/cdmc333.jpg      \n",
            "  inflating: forest/cdmc338.jpg      \n",
            "  inflating: forest/cdmc344.jpg      \n",
            "  inflating: forest/cdmc348.jpg      \n",
            "  inflating: forest/cdmc351.jpg      \n",
            "  inflating: forest/cdmc352.jpg      \n",
            "  inflating: forest/cdmc358.jpg      \n",
            "  inflating: forest/cdmc359.jpg      \n",
            "  inflating: forest/cdmc363.jpg      \n",
            "  inflating: forest/cdmc368.jpg      \n",
            "  inflating: forest/cdmc375.jpg      \n",
            "  inflating: forest/cdmc377.jpg      \n",
            "  inflating: forest/cdmc385.jpg      \n",
            "  inflating: forest/cdmc388.jpg      \n",
            "  inflating: forest/cdmc414.jpg      \n",
            "  inflating: forest/cdmc415.jpg      \n",
            "  inflating: forest/cdmc430.jpg      \n",
            "  inflating: forest/cdmc451.jpg      \n",
            "  inflating: forest/cdmc458.jpg      \n",
            "  inflating: forest/cdmc494.jpg      \n",
            "  inflating: forest/cdmc507.jpg      \n",
            "  inflating: forest/cdmc533.jpg      \n",
            "  inflating: forest/cdmc547.jpg      \n",
            "  inflating: forest/cdmc556.jpg      \n",
            "  inflating: forest/cdmc562.jpg      \n",
            "  inflating: forest/for102.jpg       \n",
            "  inflating: forest/for105.jpg       \n",
            "  inflating: forest/for106.jpg       \n",
            "  inflating: forest/for110.jpg       \n",
            "  inflating: forest/for112.jpg       \n",
            "  inflating: forest/for114.jpg       \n",
            "  inflating: forest/for116.jpg       \n",
            "  inflating: forest/for119.jpg       \n",
            "  inflating: forest/for121.jpg       \n",
            "  inflating: forest/for127.jpg       \n",
            "  inflating: forest/for130.jpg       \n",
            "  inflating: forest/for132.jpg       \n",
            "  inflating: forest/for136.jpg       \n",
            "  inflating: forest/for137.jpg       \n",
            "  inflating: forest/for142.jpg       \n",
            "  inflating: forest/for143.jpg       \n",
            "  inflating: forest/for146.jpg       \n",
            "  inflating: forest/for148.jpg       \n",
            "  inflating: forest/for149.jpg       \n",
            "  inflating: forest/for15.jpg        \n",
            "  inflating: forest/for151.jpg       \n",
            "  inflating: forest/for153.jpg       \n",
            "  inflating: forest/for157.jpg       \n",
            "  inflating: forest/for17.jpg        \n",
            "  inflating: forest/for20.jpg        \n",
            "  inflating: forest/for22.jpg        \n",
            "  inflating: forest/for25.jpg        \n",
            "  inflating: forest/for27.jpg        \n",
            "  inflating: forest/for28.jpg        \n",
            "  inflating: forest/for3.jpg         \n",
            "  inflating: forest/for32.jpg        \n",
            "  inflating: forest/for38.jpg        \n",
            "  inflating: forest/for42.jpg        \n",
            "  inflating: forest/for44.jpg        \n",
            "  inflating: forest/for47.jpg        \n",
            "  inflating: forest/for50.jpg        \n",
            "  inflating: forest/for52.jpg        \n",
            "  inflating: forest/for58.jpg        \n",
            "  inflating: forest/for60.jpg        \n",
            "  inflating: forest/for63.jpg        \n",
            "  inflating: forest/for65.jpg        \n",
            "  inflating: forest/for67.jpg        \n",
            "  inflating: forest/for77.jpg        \n",
            "  inflating: forest/for78.jpg        \n",
            "  inflating: forest/for79.jpg        \n",
            "  inflating: forest/for82.jpg        \n",
            "  inflating: forest/for84.jpg        \n",
            "  inflating: forest/for85.jpg        \n",
            "  inflating: forest/for86.jpg        \n",
            "  inflating: forest/for87.jpg        \n",
            "  inflating: forest/for93.jpg        \n",
            "  inflating: forest/for95.jpg        \n",
            "  inflating: forest/for96.jpg        \n",
            "  inflating: forest/land102.jpg      \n",
            "  inflating: forest/land107.jpg      \n",
            "  inflating: forest/land159.jpg      \n",
            "  inflating: forest/land215.jpg      \n",
            "  inflating: forest/land217.jpg      \n",
            "  inflating: forest/land219.jpg      \n",
            "  inflating: forest/land222.jpg      \n",
            "  inflating: forest/land224.jpg      \n",
            "  inflating: forest/land243.jpg      \n",
            "  inflating: forest/land245.jpg      \n",
            "  inflating: forest/land314.jpg      \n",
            "  inflating: forest/land335.jpg      \n",
            "  inflating: forest/land376.jpg      \n",
            "  inflating: forest/land377.jpg      \n",
            "  inflating: forest/land503.jpg      \n",
            "  inflating: forest/land64.jpg       \n",
            "  inflating: forest/land726.jpg      \n",
            "  inflating: forest/land727.jpg      \n",
            "  inflating: forest/land733.jpg      \n",
            "  inflating: forest/land741.jpg      \n",
            "  inflating: forest/land760.jpg      \n",
            "  inflating: forest/land765.jpg      \n",
            "  inflating: forest/land801.jpg      \n",
            "  inflating: forest/land807.jpg      \n",
            "  inflating: forest/land809.jpg      \n",
            "  inflating: forest/land81.jpg       \n",
            "  inflating: forest/land810.jpg      \n",
            "  inflating: forest/land849.jpg      \n",
            "  inflating: forest/land850.jpg      \n",
            "  inflating: forest/land852.jpg      \n",
            "  inflating: forest/land854.jpg      \n",
            "  inflating: forest/land858.jpg      \n",
            "  inflating: forest/land861.jpg      \n",
            "  inflating: forest/land862.jpg      \n",
            "  inflating: forest/land863.jpg      \n",
            "  inflating: forest/land864.jpg      \n",
            "  inflating: forest/land866.jpg      \n",
            "  inflating: forest/land867.jpg      \n",
            "  inflating: forest/land869.jpg      \n",
            "  inflating: forest/land870.jpg      \n",
            "  inflating: forest/land871.jpg      \n",
            "  inflating: forest/land872.jpg      \n",
            "  inflating: forest/land873.jpg      \n",
            "  inflating: forest/land922.jpg      \n",
            "  inflating: forest/moun46.jpg       \n",
            "  inflating: forest/n18075.jpg       \n",
            "  inflating: forest/nat1027.jpg      \n",
            "  inflating: forest/nat1033.jpg      \n",
            "  inflating: forest/nat1088.jpg      \n",
            "  inflating: forest/nat1095.jpg      \n",
            "  inflating: forest/nat1097.jpg      \n",
            "  inflating: forest/nat1127.jpg      \n",
            "  inflating: forest/nat1128.jpg      \n",
            "  inflating: forest/nat1131.jpg      \n",
            "  inflating: forest/nat1184.jpg      \n",
            "  inflating: forest/nat1217.jpg      \n",
            "  inflating: forest/nat1242.jpg      \n",
            "  inflating: forest/nat1248.jpg      \n",
            "  inflating: forest/nat1253.jpg      \n",
            "  inflating: forest/nat1266.jpg      \n",
            "  inflating: forest/nat130.jpg       \n",
            "  inflating: forest/nat145.jpg       \n",
            "  inflating: forest/nat146.jpg       \n",
            "  inflating: forest/nat147.jpg       \n",
            "  inflating: forest/nat162.jpg       \n",
            "  inflating: forest/nat203.jpg       \n",
            "  inflating: forest/nat204.jpg       \n",
            "  inflating: forest/nat205.jpg       \n",
            "  inflating: forest/nat208.jpg       \n",
            "  inflating: forest/nat209.jpg       \n",
            "  inflating: forest/nat210.jpg       \n",
            "  inflating: forest/nat211.jpg       \n",
            "  inflating: forest/nat212.jpg       \n",
            "  inflating: forest/nat219.jpg       \n",
            "  inflating: forest/nat220.jpg       \n",
            "  inflating: forest/nat221.jpg       \n",
            "  inflating: forest/nat223.jpg       \n",
            "  inflating: forest/nat228.jpg       \n",
            "  inflating: forest/nat239.jpg       \n",
            "  inflating: forest/nat260.jpg       \n",
            "  inflating: forest/nat263.jpg       \n",
            "  inflating: forest/nat266.jpg       \n",
            "  inflating: forest/nat281.jpg       \n",
            "  inflating: forest/nat286.jpg       \n",
            "  inflating: forest/nat310.jpg       \n",
            "  inflating: forest/nat312.jpg       \n",
            "  inflating: forest/nat315.jpg       \n",
            "  inflating: forest/nat324.jpg       \n",
            "  inflating: forest/nat325.jpg       \n",
            "  inflating: forest/nat328.jpg       \n",
            "  inflating: forest/nat337.jpg       \n",
            "  inflating: forest/nat338.jpg       \n",
            "  inflating: forest/nat347.jpg       \n",
            "  inflating: forest/nat349.jpg       \n",
            "  inflating: forest/nat354.jpg       \n",
            "  inflating: forest/nat359.jpg       \n",
            "  inflating: forest/nat360.jpg       \n",
            "  inflating: forest/nat361.jpg       \n",
            "  inflating: forest/nat367.jpg       \n",
            "  inflating: forest/nat373.jpg       \n",
            "  inflating: forest/nat398.jpg       \n",
            "  inflating: forest/nat400.jpg       \n",
            "  inflating: forest/nat417.jpg       \n",
            "  inflating: forest/nat442.jpg       \n",
            "  inflating: forest/nat449.jpg       \n",
            "  inflating: forest/nat450.jpg       \n",
            "  inflating: forest/nat451.jpg       \n",
            "  inflating: forest/nat452.jpg       \n",
            "  inflating: forest/nat468.jpg       \n",
            "  inflating: forest/nat470.jpg       \n",
            "  inflating: forest/nat619.jpg       \n",
            "  inflating: forest/nat623.jpg       \n",
            "  inflating: forest/nat697.jpg       \n",
            "  inflating: forest/nat715.jpg       \n",
            "  inflating: forest/nat717.jpg       \n",
            "  inflating: forest/nat719.jpg       \n",
            "  inflating: forest/nat763.jpg       \n",
            "  inflating: forest/nat798.jpg       \n",
            "  inflating: forest/nat835.jpg       \n",
            "  inflating: forest/nat851.jpg       \n",
            "  inflating: forest/nat867.jpg       \n",
            "  inflating: forest/nat946.jpg       \n",
            "  inflating: forest/nat982.jpg       \n",
            "  inflating: forest/natc12.jpg       \n",
            "  inflating: forest/natc13.jpg       \n",
            "  inflating: forest/natc37.jpg       \n",
            "  inflating: forest/natc4.jpg        \n",
            "  inflating: forest/natc49.jpg       \n",
            "  inflating: forest/natc52.jpg       \n",
            "  inflating: forest/natu15.jpg       \n",
            "  inflating: forest/natu158.jpg      \n",
            "  inflating: forest/natu161.jpg      \n",
            "  inflating: forest/natu163.jpg      \n",
            "  inflating: forest/natu164.jpg      \n",
            "  inflating: forest/natu169.jpg      \n",
            "  inflating: forest/natu170.jpg      \n",
            "  inflating: forest/natu172.jpg      \n",
            "  inflating: forest/natu18.jpg       \n",
            "  inflating: forest/natu2.jpg        \n",
            "  inflating: forest/natu26.jpg       \n",
            "  inflating: forest/natu28.jpg       \n",
            "  inflating: forest/natu29.jpg       \n",
            "  inflating: forest/natu308.jpg      \n",
            "  inflating: forest/natu31.jpg       \n",
            "  inflating: forest/natu317.jpg      \n",
            "  inflating: forest/natu322.jpg      \n",
            "  inflating: forest/natu325.jpg      \n",
            "  inflating: forest/natu361.jpg      \n",
            "  inflating: forest/natu396.jpg      \n",
            "  inflating: forest/natu402.jpg      \n",
            "  inflating: forest/natu423.jpg      \n",
            "  inflating: forest/natu424.jpg      \n",
            "  inflating: forest/natu425.jpg      \n",
            "  inflating: forest/natu428.jpg      \n",
            "  inflating: forest/natu430.jpg      \n",
            "  inflating: forest/natu439.jpg      \n",
            "  inflating: forest/natu440.jpg      \n",
            "  inflating: forest/natu441.jpg      \n",
            "  inflating: forest/natu443.jpg      \n",
            "  inflating: forest/natu611.jpg      \n",
            "  inflating: forest/natu634.jpg      \n",
            "  inflating: forest/natu696.jpg      \n",
            "  inflating: forest/natu707.jpg      \n",
            "  inflating: forest/natu72.jpg       \n",
            "  inflating: forest/natu723.jpg      \n",
            "  inflating: forest/natu794.jpg      \n",
            "  inflating: forest/natu846.jpg      \n",
            "  inflating: forest/natu847.jpg      \n",
            "  inflating: forest/natu848.jpg      \n",
            "  inflating: forest/natu850.jpg      \n",
            "  inflating: forest/natu860.jpg      \n",
            "  inflating: forest/natu863.jpg      \n",
            "  inflating: forest/natu866.jpg      \n",
            "  inflating: forest/natu869.jpg      \n",
            "  inflating: forest/natu870.jpg      \n",
            "  inflating: forest/natu871.jpg      \n",
            "  inflating: forest/natu895.jpg      \n",
            "  inflating: forest/natu898.jpg      \n",
            "  inflating: forest/natu913.jpg      \n",
            "  inflating: forest/natu934.jpg      \n",
            "  inflating: forest/natu949.jpg      \n",
            "  inflating: forest/natu977.jpg      \n",
            "  inflating: forest/natu994.jpg      \n",
            "  inflating: forest/sclos11.jpg      \n",
            "  inflating: forest/sclos13.jpg      \n",
            "  inflating: forest/tell51.jpg       \n",
            "  inflating: forest/text102.jpg      \n",
            "  inflating: forest/text103.jpg      \n",
            "  inflating: forest/text105.jpg      \n",
            "  inflating: forest/text106.jpg      \n",
            "  inflating: forest/text107.jpg      \n",
            "  inflating: forest/text11.jpg       \n",
            "  inflating: forest/text111.jpg      \n",
            "  inflating: forest/text119.jpg      \n",
            "  inflating: forest/text122.jpg      \n",
            "  inflating: forest/text124.jpg      \n",
            "  inflating: forest/text13.jpg       \n",
            "  inflating: forest/text20.jpg       \n",
            "  inflating: forest/text21.jpg       \n",
            "  inflating: forest/text26.jpg       \n",
            "  inflating: forest/text28.jpg       \n",
            "  inflating: forest/text29.jpg       \n",
            "  inflating: forest/text35.jpg       \n",
            "  inflating: forest/text38.jpg       \n",
            "  inflating: forest/text39.jpg       \n",
            "  inflating: forest/text40.jpg       \n",
            "  inflating: forest/text41.jpg       \n",
            "  inflating: forest/text42.jpg       \n",
            "  inflating: forest/text43.jpg       \n",
            "  inflating: forest/text44.jpg       \n",
            "  inflating: forest/text45.jpg       \n",
            "  inflating: forest/text46.jpg       \n",
            "  inflating: forest/text47.jpg       \n",
            "  inflating: forest/text48.jpg       \n",
            "  inflating: forest/text49.jpg       \n",
            "  inflating: forest/text50.jpg       \n",
            "  inflating: forest/text63.jpg       \n",
            "  inflating: forest/text75.jpg       \n",
            "  inflating: forest/text81.jpg       \n",
            "  inflating: forest/text90.jpg       \n",
            "  inflating: forest/Thumbs.db        \n",
            "  inflating: forest/urb753.jpg       \n",
            "  inflating: forest/urb767.jpg       \n"
          ],
          "name": "stdout"
        }
      ]
    },
    {
      "cell_type": "code",
      "metadata": {
        "id": "YjEpzUscOKHo",
        "colab_type": "code",
        "colab": {
          "base_uri": "https://localhost:8080/",
          "height": 1000
        },
        "outputId": "5a895639-f8b2-453e-a11a-1d76fca69b16"
      },
      "source": [
        "!unzip mountain.zip"
      ],
      "execution_count": 2,
      "outputs": [
        {
          "output_type": "stream",
          "text": [
            "Archive:  mountain.zip\n",
            "  inflating: mountain/art1131.jpg    \n",
            "  inflating: mountain/art1132.jpg    \n",
            "  inflating: mountain/cdmc181.jpg    \n",
            "  inflating: mountain/cdmc184.jpg    \n",
            "  inflating: mountain/cdmc187.jpg    \n",
            "  inflating: mountain/gre242.jpg     \n",
            "  inflating: mountain/land10.jpg     \n",
            "  inflating: mountain/land11.jpg     \n",
            "  inflating: mountain/land13.jpg     \n",
            "  inflating: mountain/land130.jpg    \n",
            "  inflating: mountain/land131.jpg    \n",
            "  inflating: mountain/land132.jpg    \n",
            "  inflating: mountain/land142.jpg    \n",
            "  inflating: mountain/land143.jpg    \n",
            "  inflating: mountain/land145.jpg    \n",
            "  inflating: mountain/land15.jpg     \n",
            "  inflating: mountain/land150.jpg    \n",
            "  inflating: mountain/land153.jpg    \n",
            "  inflating: mountain/land16.jpg     \n",
            "  inflating: mountain/land161.jpg    \n",
            "  inflating: mountain/land165.jpg    \n",
            "  inflating: mountain/land17.jpg     \n",
            "  inflating: mountain/land172.jpg    \n",
            "  inflating: mountain/land179.jpg    \n",
            "  inflating: mountain/land18.jpg     \n",
            "  inflating: mountain/land180.jpg    \n",
            "  inflating: mountain/land188.jpg    \n",
            "  inflating: mountain/land189.jpg    \n",
            "  inflating: mountain/land196.jpg    \n",
            "  inflating: mountain/land197.jpg    \n",
            "  inflating: mountain/land198.jpg    \n",
            "  inflating: mountain/land201.jpg    \n",
            "  inflating: mountain/land210.jpg    \n",
            "  inflating: mountain/land22.jpg     \n",
            "  inflating: mountain/land223.jpg    \n",
            "  inflating: mountain/land225.jpg    \n",
            "  inflating: mountain/land230.jpg    \n",
            "  inflating: mountain/land26.jpg     \n",
            "  inflating: mountain/land260.jpg    \n",
            "  inflating: mountain/land27.jpg     \n",
            "  inflating: mountain/land275.jpg    \n",
            "  inflating: mountain/land278.jpg    \n",
            "  inflating: mountain/land28.jpg     \n",
            "  inflating: mountain/land280.jpg    \n",
            "  inflating: mountain/land281.jpg    \n",
            "  inflating: mountain/land286.jpg    \n",
            "  inflating: mountain/land30.jpg     \n",
            "  inflating: mountain/land315.jpg    \n",
            "  inflating: mountain/land318.jpg    \n",
            "  inflating: mountain/land319.jpg    \n",
            "  inflating: mountain/land33.jpg     \n",
            "  inflating: mountain/land331.jpg    \n",
            "  inflating: mountain/land387.jpg    \n",
            "  inflating: mountain/land4.jpg      \n",
            "  inflating: mountain/land465.jpg    \n",
            "  inflating: mountain/land471.jpg    \n",
            "  inflating: mountain/land475.jpg    \n",
            "  inflating: mountain/land479.jpg    \n",
            "  inflating: mountain/land6.jpg      \n",
            "  inflating: mountain/land619.jpg    \n",
            "  inflating: mountain/land644.jpg    \n",
            "  inflating: mountain/land680.jpg    \n",
            "  inflating: mountain/land716.jpg    \n",
            "  inflating: mountain/land763.jpg    \n",
            "  inflating: mountain/land775.jpg    \n",
            "  inflating: mountain/land778.jpg    \n",
            "  inflating: mountain/land780.jpg    \n",
            "  inflating: mountain/land787.jpg    \n",
            "  inflating: mountain/land879.jpg    \n",
            "  inflating: mountain/land880.jpg    \n",
            "  inflating: mountain/land886.jpg    \n",
            "  inflating: mountain/land917.jpg    \n",
            "  inflating: mountain/moun1.jpg      \n",
            "  inflating: mountain/moun10.jpg     \n",
            "  inflating: mountain/moun13.jpg     \n",
            "  inflating: mountain/moun14.jpg     \n",
            "  inflating: mountain/moun27.jpg     \n",
            "  inflating: mountain/moun32.jpg     \n",
            "  inflating: mountain/moun37.jpg     \n",
            "  inflating: mountain/moun38.jpg     \n",
            "  inflating: mountain/moun41.jpg     \n",
            "  inflating: mountain/moun44.jpg     \n",
            "  inflating: mountain/n18009.jpg     \n",
            "  inflating: mountain/n18019.jpg     \n",
            "  inflating: mountain/n18021.jpg     \n",
            "  inflating: mountain/n18022.jpg     \n",
            "  inflating: mountain/n18023.jpg     \n",
            "  inflating: mountain/n18024.jpg     \n",
            "  inflating: mountain/n18028.jpg     \n",
            "  inflating: mountain/n18036.jpg     \n",
            "  inflating: mountain/n18039.jpg     \n",
            "  inflating: mountain/n18044.jpg     \n",
            "  inflating: mountain/n18058.jpg     \n",
            "  inflating: mountain/n18069.jpg     \n",
            "  inflating: mountain/n18070.jpg     \n",
            "  inflating: mountain/n18071.jpg     \n",
            "  inflating: mountain/n199004.jpg    \n",
            "  inflating: mountain/n199015.jpg    \n",
            "  inflating: mountain/n199031.jpg    \n",
            "  inflating: mountain/n199073.jpg    \n",
            "  inflating: mountain/n199074.jpg    \n",
            "  inflating: mountain/n199075.jpg    \n",
            "  inflating: mountain/n199080.jpg    \n",
            "  inflating: mountain/n199089.jpg    \n",
            "  inflating: mountain/n213005.jpg    \n",
            "  inflating: mountain/n213007.jpg    \n",
            "  inflating: mountain/n213009.jpg    \n",
            "  inflating: mountain/n213021.jpg    \n",
            "  inflating: mountain/n213031.jpg    \n",
            "  inflating: mountain/n213034.jpg    \n",
            "  inflating: mountain/n213035.jpg    \n",
            "  inflating: mountain/n213041.jpg    \n",
            "  inflating: mountain/n213048.jpg    \n",
            "  inflating: mountain/n213049.jpg    \n",
            "  inflating: mountain/n213052.jpg    \n",
            "  inflating: mountain/n213053.jpg    \n",
            "  inflating: mountain/n213056.jpg    \n",
            "  inflating: mountain/n213065.jpg    \n",
            "  inflating: mountain/n213066.jpg    \n",
            "  inflating: mountain/n213075.jpg    \n",
            "  inflating: mountain/n213080.jpg    \n",
            "  inflating: mountain/n213081.jpg    \n",
            "  inflating: mountain/n213085.jpg    \n",
            "  inflating: mountain/n213086.jpg    \n",
            "  inflating: mountain/n213092.jpg    \n",
            "  inflating: mountain/n213093.jpg    \n",
            "  inflating: mountain/n213094.jpg    \n",
            "  inflating: mountain/n213095.jpg    \n",
            "  inflating: mountain/n213096.jpg    \n",
            "  inflating: mountain/n213097.jpg    \n",
            "  inflating: mountain/n213098.jpg    \n",
            "  inflating: mountain/n219006.jpg    \n",
            "  inflating: mountain/n219007.jpg    \n",
            "  inflating: mountain/n219008.jpg    \n",
            "  inflating: mountain/n219015.jpg    \n",
            "  inflating: mountain/n251048.jpg    \n",
            "  inflating: mountain/n255008.jpg    \n",
            "  inflating: mountain/n255068.jpg    \n",
            "  inflating: mountain/n266017.jpg    \n",
            "  inflating: mountain/n266018.jpg    \n",
            "  inflating: mountain/n266020.jpg    \n",
            "  inflating: mountain/n295018.jpg    \n",
            "  inflating: mountain/n295039.jpg    \n",
            "  inflating: mountain/n295042.jpg    \n",
            "  inflating: mountain/n295082.jpg    \n",
            "  inflating: mountain/n344019.jpg    \n",
            "  inflating: mountain/n344028.jpg    \n",
            "  inflating: mountain/n344032.jpg    \n",
            "  inflating: mountain/n344042.jpg    \n",
            "  inflating: mountain/n344047.jpg    \n",
            "  inflating: mountain/n344053.jpg    \n",
            "  inflating: mountain/n344059.jpg    \n",
            "  inflating: mountain/n344062.jpg    \n",
            "  inflating: mountain/n344076.jpg    \n",
            "  inflating: mountain/n344080.jpg    \n",
            "  inflating: mountain/n344082.jpg    \n",
            "  inflating: mountain/n347049.jpg    \n",
            "  inflating: mountain/n347051.jpg    \n",
            "  inflating: mountain/n347077.jpg    \n",
            "  inflating: mountain/n347078.jpg    \n",
            "  inflating: mountain/n371063.jpg    \n",
            "  inflating: mountain/n371066.jpg    \n",
            "  inflating: mountain/n371071.jpg    \n",
            "  inflating: mountain/n371076.jpg    \n",
            "  inflating: mountain/n371077.jpg    \n",
            "  inflating: mountain/n392087.jpg    \n",
            "  inflating: mountain/n392090.jpg    \n",
            "  inflating: mountain/n405000.jpg    \n",
            "  inflating: mountain/n405023.jpg    \n",
            "  inflating: mountain/n405030.jpg    \n",
            "  inflating: mountain/n405055.jpg    \n",
            "  inflating: mountain/n44001.jpg     \n",
            "  inflating: mountain/n44002.jpg     \n",
            "  inflating: mountain/n44003.jpg     \n",
            "  inflating: mountain/n44004.jpg     \n",
            "  inflating: mountain/n44009.jpg     \n",
            "  inflating: mountain/n44031.jpg     \n",
            "  inflating: mountain/n44062.jpg     \n",
            "  inflating: mountain/n480098.jpg    \n",
            "  inflating: mountain/n510071.jpg    \n",
            "  inflating: mountain/n531080.jpg    \n",
            "  inflating: mountain/n603007.jpg    \n",
            "  inflating: mountain/n603032.jpg    \n",
            "  inflating: mountain/n603040.jpg    \n",
            "  inflating: mountain/n603048.jpg    \n",
            "  inflating: mountain/n632073.jpg    \n",
            "  inflating: mountain/n736011.jpg    \n",
            "  inflating: mountain/n736023.jpg    \n",
            "  inflating: mountain/n736026.jpg    \n",
            "  inflating: mountain/n736029.jpg    \n",
            "  inflating: mountain/n737027.jpg    \n",
            "  inflating: mountain/n737041.jpg    \n",
            "  inflating: mountain/n737049.jpg    \n",
            "  inflating: mountain/n738012.jpg    \n",
            "  inflating: mountain/n738013.jpg    \n",
            "  inflating: mountain/n841058.jpg    \n",
            "  inflating: mountain/n841059.jpg    \n",
            "  inflating: mountain/n841060.jpg    \n",
            "  inflating: mountain/n860034.jpg    \n",
            "  inflating: mountain/n860054.jpg    \n",
            "  inflating: mountain/n860061.jpg    \n",
            "  inflating: mountain/nat1003.jpg    \n",
            "  inflating: mountain/nat1008.jpg    \n",
            "  inflating: mountain/nat1017.jpg    \n",
            "  inflating: mountain/nat1046.jpg    \n",
            "  inflating: mountain/nat1062.jpg    \n",
            "  inflating: mountain/nat1064.jpg    \n",
            "  inflating: mountain/nat1084.jpg    \n",
            "  inflating: mountain/nat1093.jpg    \n",
            "  inflating: mountain/nat1094.jpg    \n",
            "  inflating: mountain/nat11.jpg      \n",
            "  inflating: mountain/nat1114.jpg    \n",
            "  inflating: mountain/nat1135.jpg    \n",
            "  inflating: mountain/nat1136.jpg    \n",
            "  inflating: mountain/nat1142.jpg    \n",
            "  inflating: mountain/nat116.jpg     \n",
            "  inflating: mountain/nat117.jpg     \n",
            "  inflating: mountain/nat1207.jpg    \n",
            "  inflating: mountain/nat122.jpg     \n",
            "  inflating: mountain/nat1231.jpg    \n",
            "  inflating: mountain/nat1232.jpg    \n",
            "  inflating: mountain/nat1234.jpg    \n",
            "  inflating: mountain/nat1236.jpg    \n",
            "  inflating: mountain/nat14.jpg      \n",
            "  inflating: mountain/nat17.jpg      \n",
            "  inflating: mountain/nat199.jpg     \n",
            "  inflating: mountain/nat25.jpg      \n",
            "  inflating: mountain/nat28.jpg      \n",
            "  inflating: mountain/nat29.jpg      \n",
            "  inflating: mountain/nat30.jpg      \n",
            "  inflating: mountain/nat316.jpg     \n",
            "  inflating: mountain/nat317.jpg     \n",
            "  inflating: mountain/nat332.jpg     \n",
            "  inflating: mountain/nat340.jpg     \n",
            "  inflating: mountain/nat346.jpg     \n",
            "  inflating: mountain/nat36.jpg      \n",
            "  inflating: mountain/nat37.jpg      \n",
            "  inflating: mountain/nat38.jpg      \n",
            "  inflating: mountain/nat391.jpg     \n",
            "  inflating: mountain/nat409.jpg     \n",
            "  inflating: mountain/nat41.jpg      \n",
            "  inflating: mountain/nat42.jpg      \n",
            "  inflating: mountain/nat426.jpg     \n",
            "  inflating: mountain/nat427.jpg     \n",
            "  inflating: mountain/nat43.jpg      \n",
            "  inflating: mountain/nat433.jpg     \n",
            "  inflating: mountain/nat445.jpg     \n",
            "  inflating: mountain/nat481.jpg     \n",
            "  inflating: mountain/nat485.jpg     \n",
            "  inflating: mountain/nat49.jpg      \n",
            "  inflating: mountain/nat494.jpg     \n",
            "  inflating: mountain/nat51.jpg      \n",
            "  inflating: mountain/nat53.jpg      \n",
            "  inflating: mountain/nat54.jpg      \n",
            "  inflating: mountain/nat55.jpg      \n",
            "  inflating: mountain/nat56.jpg      \n",
            "  inflating: mountain/nat57.jpg      \n",
            "  inflating: mountain/nat59.jpg      \n",
            "  inflating: mountain/nat67.jpg      \n",
            "  inflating: mountain/nat681.jpg     \n",
            "  inflating: mountain/nat682.jpg     \n",
            "  inflating: mountain/nat686.jpg     \n",
            "  inflating: mountain/nat688.jpg     \n",
            "  inflating: mountain/nat693.jpg     \n",
            "  inflating: mountain/nat73.jpg      \n",
            "  inflating: mountain/nat74.jpg      \n",
            "  inflating: mountain/nat752.jpg     \n",
            "  inflating: mountain/nat758.jpg     \n",
            "  inflating: mountain/nat760.jpg     \n",
            "  inflating: mountain/nat762.jpg     \n",
            "  inflating: mountain/nat77.jpg      \n",
            "  inflating: mountain/nat78.jpg      \n",
            "  inflating: mountain/nat783.jpg     \n",
            "  inflating: mountain/nat79.jpg      \n",
            "  inflating: mountain/nat80.jpg      \n",
            "  inflating: mountain/nat801.jpg     \n",
            "  inflating: mountain/nat82.jpg      \n",
            "  inflating: mountain/nat826.jpg     \n",
            "  inflating: mountain/nat84.jpg      \n",
            "  inflating: mountain/nat87.jpg      \n",
            "  inflating: mountain/nat876.jpg     \n",
            "  inflating: mountain/nat88.jpg      \n",
            "  inflating: mountain/nat884.jpg     \n",
            "  inflating: mountain/nat891.jpg     \n",
            "  inflating: mountain/nat91.jpg      \n",
            "  inflating: mountain/nat92.jpg      \n",
            "  inflating: mountain/nat93.jpg      \n",
            "  inflating: mountain/nat99.jpg      \n",
            "  inflating: mountain/natu102.jpg    \n",
            "  inflating: mountain/natu105.jpg    \n",
            "  inflating: mountain/natu457.jpg    \n",
            "  inflating: mountain/natu458.jpg    \n",
            "  inflating: mountain/natu460.jpg    \n",
            "  inflating: mountain/natu461.jpg    \n",
            "  inflating: mountain/natu466.jpg    \n",
            "  inflating: mountain/natu474.jpg    \n",
            "  inflating: mountain/natu568.jpg    \n",
            "  inflating: mountain/natu655.jpg    \n",
            "  inflating: mountain/natu668.jpg    \n",
            "  inflating: mountain/natu687.jpg    \n",
            "  inflating: mountain/natu697.jpg    \n",
            "  inflating: mountain/natu699.jpg    \n",
            "  inflating: mountain/natu742.jpg    \n",
            "  inflating: mountain/natu749.jpg    \n",
            "  inflating: mountain/natu750.jpg    \n",
            "  inflating: mountain/natu756.jpg    \n",
            "  inflating: mountain/natu762.jpg    \n",
            "  inflating: mountain/natu763.jpg    \n",
            "  inflating: mountain/natu766.jpg    \n",
            "  inflating: mountain/natu783.jpg    \n",
            "  inflating: mountain/natu786.jpg    \n",
            "  inflating: mountain/natu875.jpg    \n",
            "  inflating: mountain/natu894.jpg    \n",
            "  inflating: mountain/natu974.jpg    \n",
            "  inflating: mountain/natu997.jpg    \n",
            "  inflating: mountain/sclos4.jpg     \n",
            "  inflating: mountain/sharp10.jpg    \n",
            "  inflating: mountain/sharp11.jpg    \n",
            "  inflating: mountain/sharp12.jpg    \n",
            "  inflating: mountain/sharp13.jpg    \n",
            "  inflating: mountain/sharp16.jpg    \n",
            "  inflating: mountain/sharp18.jpg    \n",
            "  inflating: mountain/sharp19.jpg    \n",
            "  inflating: mountain/sharp20.jpg    \n",
            "  inflating: mountain/sharp21.jpg    \n",
            "  inflating: mountain/sharp22.jpg    \n",
            "  inflating: mountain/sharp27.jpg    \n",
            "  inflating: mountain/sharp29.jpg    \n",
            "  inflating: mountain/sharp30.jpg    \n",
            "  inflating: mountain/sharp32.jpg    \n",
            "  inflating: mountain/sharp33.jpg    \n",
            "  inflating: mountain/sharp34.jpg    \n",
            "  inflating: mountain/sharp38.jpg    \n",
            "  inflating: mountain/sharp40.jpg    \n",
            "  inflating: mountain/sharp41.jpg    \n",
            "  inflating: mountain/sharp42.jpg    \n",
            "  inflating: mountain/sharp43.jpg    \n",
            "  inflating: mountain/sharp44.jpg    \n",
            "  inflating: mountain/sharp45.jpg    \n",
            "  inflating: mountain/sharp46.jpg    \n",
            "  inflating: mountain/sharp47.jpg    \n",
            "  inflating: mountain/sharp48.jpg    \n",
            "  inflating: mountain/sharp5.jpg     \n",
            "  inflating: mountain/sharp52.jpg    \n",
            "  inflating: mountain/sharp53.jpg    \n",
            "  inflating: mountain/sharp54.jpg    \n",
            "  inflating: mountain/sharp59.jpg    \n",
            "  inflating: mountain/sharp60.jpg    \n",
            "  inflating: mountain/sharp61.jpg    \n",
            "  inflating: mountain/sharp63.jpg    \n",
            "  inflating: mountain/sharp66.jpg    \n",
            "  inflating: mountain/sharp67.jpg    \n",
            "  inflating: mountain/sharp68.jpg    \n",
            "  inflating: mountain/sharp69.jpg    \n",
            "  inflating: mountain/sharp70.jpg    \n",
            "  inflating: mountain/sharp71.jpg    \n",
            "  inflating: mountain/sharp72.jpg    \n",
            "  inflating: mountain/sharp73.jpg    \n",
            "  inflating: mountain/sharp74.jpg    \n",
            "  inflating: mountain/sharp78.jpg    \n",
            "  inflating: mountain/sharp91.jpg    \n",
            "  inflating: mountain/sharp92.jpg    \n",
            "  inflating: mountain/sharp96.jpg    \n",
            "  inflating: mountain/sharp98.jpg    \n",
            "  inflating: mountain/ski24.jpg      \n",
            "  inflating: mountain/ski5.jpg       \n",
            "  inflating: mountain/ski57.jpg      \n",
            "  inflating: mountain/ski61.jpg      \n",
            "  inflating: mountain/ski62.jpg      \n",
            "  inflating: mountain/ski65.jpg      \n",
            "  inflating: mountain/ski69.jpg      \n",
            "  inflating: mountain/ski72.jpg      \n",
            "  inflating: mountain/sopen16.jpg    \n",
            "  inflating: mountain/sopen24.jpg    \n",
            "  inflating: mountain/Thumbs.db      \n"
          ],
          "name": "stdout"
        }
      ]
    },
    {
      "cell_type": "markdown",
      "metadata": {
        "id": "tPVhRHAnSSr0",
        "colab_type": "text"
      },
      "source": [
        "1) Load in image data as numpy arrays."
      ]
    },
    {
      "cell_type": "code",
      "metadata": {
        "id": "x7vcSYX5WfVW",
        "colab_type": "code",
        "colab": {}
      },
      "source": [
        "import glob, os\n",
        "import cv2\n",
        "import numpy as np"
      ],
      "execution_count": 0,
      "outputs": []
    },
    {
      "cell_type": "code",
      "metadata": {
        "id": "ipM1PdRv_TLS",
        "colab_type": "code",
        "colab": {}
      },
      "source": [
        "# Forest"
      ],
      "execution_count": 0,
      "outputs": []
    },
    {
      "cell_type": "code",
      "metadata": {
        "id": "i9aWJ7_BhUNf",
        "colab_type": "code",
        "colab": {}
      },
      "source": [
        "# Indicate 0 for grayscale. It's the only way I could figure out for the channels when applying .shape not to appear.\n",
        "\n",
        "os.chdir(\"/content/forest\")\n",
        "forest = []\n",
        "for file in glob.glob(\"*.jpg\"):\n",
        "    image = cv2.imread(file, 0)\n",
        "    forest.append(image)"
      ],
      "execution_count": 0,
      "outputs": []
    },
    {
      "cell_type": "code",
      "metadata": {
        "id": "qkqkZWIJrJC7",
        "colab_type": "code",
        "colab": {}
      },
      "source": [
        "forest_array = np.asarray(forest, dtype='float32')"
      ],
      "execution_count": 0,
      "outputs": []
    },
    {
      "cell_type": "code",
      "metadata": {
        "id": "5_z4MedN7cJi",
        "colab_type": "code",
        "colab": {
          "base_uri": "https://localhost:8080/",
          "height": 35
        },
        "outputId": "d22bd4af-d601-479f-e744-58fe3adf48f2"
      },
      "source": [
        "forest_array.shape"
      ],
      "execution_count": 9,
      "outputs": [
        {
          "output_type": "execute_result",
          "data": {
            "text/plain": [
              "(328, 256, 256)"
            ]
          },
          "metadata": {
            "tags": []
          },
          "execution_count": 9
        }
      ]
    },
    {
      "cell_type": "code",
      "metadata": {
        "id": "4cYum7Y87_eP",
        "colab_type": "code",
        "colab": {}
      },
      "source": [
        "# Save as .npy file.\n",
        "\n",
        "np.save('forest_array', forest_array)"
      ],
      "execution_count": 0,
      "outputs": []
    },
    {
      "cell_type": "code",
      "metadata": {
        "id": "C7TCxvxx9Taq",
        "colab_type": "code",
        "colab": {}
      },
      "source": [
        "forest = np.load('forest_array.npy')"
      ],
      "execution_count": 0,
      "outputs": []
    },
    {
      "cell_type": "code",
      "metadata": {
        "id": "Vxh-inLr9mkd",
        "colab_type": "code",
        "colab": {
          "base_uri": "https://localhost:8080/",
          "height": 35
        },
        "outputId": "1c3dd8d5-d101-440c-868d-55c83a88d41b"
      },
      "source": [
        "forest.shape"
      ],
      "execution_count": 12,
      "outputs": [
        {
          "output_type": "execute_result",
          "data": {
            "text/plain": [
              "(328, 256, 256)"
            ]
          },
          "metadata": {
            "tags": []
          },
          "execution_count": 12
        }
      ]
    },
    {
      "cell_type": "code",
      "metadata": {
        "id": "XfkUM4uF_QxT",
        "colab_type": "code",
        "colab": {}
      },
      "source": [
        "#Mountain"
      ],
      "execution_count": 0,
      "outputs": []
    },
    {
      "cell_type": "code",
      "metadata": {
        "id": "7jwPQuXjeuKL",
        "colab_type": "code",
        "colab": {}
      },
      "source": [
        "os.chdir(\"/content/mountain\")\n",
        "mountain = []\n",
        "for file in glob.glob(\"*.jpg\"):\n",
        "    image = cv2.imread(file, 0)\n",
        "    mountain.append(image)"
      ],
      "execution_count": 0,
      "outputs": []
    },
    {
      "cell_type": "code",
      "metadata": {
        "id": "hnm481qZsDeD",
        "colab_type": "code",
        "colab": {}
      },
      "source": [
        "mountain_array = np.asarray(mountain, dtype='float32')"
      ],
      "execution_count": 0,
      "outputs": []
    },
    {
      "cell_type": "code",
      "metadata": {
        "id": "EjBIEbwxdG9h",
        "colab_type": "code",
        "colab": {
          "base_uri": "https://localhost:8080/",
          "height": 35
        },
        "outputId": "8ee1be6c-1c97-4ebe-b354-31716807dd8c"
      },
      "source": [
        "mountain_array.shape"
      ],
      "execution_count": 15,
      "outputs": [
        {
          "output_type": "execute_result",
          "data": {
            "text/plain": [
              "(374, 256, 256)"
            ]
          },
          "metadata": {
            "tags": []
          },
          "execution_count": 15
        }
      ]
    },
    {
      "cell_type": "code",
      "metadata": {
        "id": "ucYn8Lmd_d_a",
        "colab_type": "code",
        "colab": {}
      },
      "source": [
        "# Save as .npy file.\n",
        "\n",
        "np.save('mountain_array', mountain_array)"
      ],
      "execution_count": 0,
      "outputs": []
    },
    {
      "cell_type": "code",
      "metadata": {
        "id": "k22OSV0j_hui",
        "colab_type": "code",
        "colab": {}
      },
      "source": [
        "mountain = np.load('mountain_array.npy')"
      ],
      "execution_count": 0,
      "outputs": []
    },
    {
      "cell_type": "code",
      "metadata": {
        "id": "NM70MGnu_oZS",
        "colab_type": "code",
        "colab": {
          "base_uri": "https://localhost:8080/",
          "height": 35
        },
        "outputId": "8d079e53-8765-4891-84cf-51ded8f2409b"
      },
      "source": [
        "mountain.shape"
      ],
      "execution_count": 18,
      "outputs": [
        {
          "output_type": "execute_result",
          "data": {
            "text/plain": [
              "(374, 256, 256)"
            ]
          },
          "metadata": {
            "tags": []
          },
          "execution_count": 18
        }
      ]
    },
    {
      "cell_type": "code",
      "metadata": {
        "id": "TF1tIzYvc3Sc",
        "colab_type": "code",
        "colab": {}
      },
      "source": [
        "X_train = np.concatenate((forest, mountain), axis=0)"
      ],
      "execution_count": 0,
      "outputs": []
    },
    {
      "cell_type": "code",
      "metadata": {
        "id": "6wgbYKWQsese",
        "colab_type": "code",
        "colab": {
          "base_uri": "https://localhost:8080/",
          "height": 35
        },
        "outputId": "1e392e3b-c5c7-45ed-ad9e-11a8001d7417"
      },
      "source": [
        "X_train.shape"
      ],
      "execution_count": 20,
      "outputs": [
        {
          "output_type": "execute_result",
          "data": {
            "text/plain": [
              "(702, 256, 256)"
            ]
          },
          "metadata": {
            "tags": []
          },
          "execution_count": 20
        }
      ]
    },
    {
      "cell_type": "code",
      "metadata": {
        "id": "sLyOewXtSUnj",
        "colab_type": "code",
        "colab": {}
      },
      "source": [
        "forest_y = np.ones(len(forest))\n",
        "mountain_y = np.zeros(len(mountain))\n",
        "y_train = np.concatenate((forest_y, mountain_y), axis=0)"
      ],
      "execution_count": 0,
      "outputs": []
    },
    {
      "cell_type": "code",
      "metadata": {
        "id": "tijl749GbXko",
        "colab_type": "code",
        "colab": {}
      },
      "source": [
        "def unison_shuffled_copies(a, b):\n",
        "    assert len(a) == len(b)\n",
        "    p = np.random.permutation(len(a))\n",
        "    return a[p], b[p]"
      ],
      "execution_count": 0,
      "outputs": []
    },
    {
      "cell_type": "code",
      "metadata": {
        "id": "0ilkH8-obkhl",
        "colab_type": "code",
        "colab": {}
      },
      "source": [
        "X_train, y_train = unison_shuffled_copies(X_train, y_train)"
      ],
      "execution_count": 0,
      "outputs": []
    },
    {
      "cell_type": "code",
      "metadata": {
        "id": "4ggiwAGocpkA",
        "colab_type": "code",
        "colab": {}
      },
      "source": [
        "from tensorflow.keras.models import Sequential\n",
        "from tensorflow.keras.layers import Conv2D, Dense, MaxPool1D, Flatten"
      ],
      "execution_count": 0,
      "outputs": []
    },
    {
      "cell_type": "code",
      "metadata": {
        "id": "yeS3g1OWcqpl",
        "colab_type": "code",
        "colab": {}
      },
      "source": [
        "# Create a model.\n",
        "\n",
        "def create_model():\n",
        "    \n",
        "    model = Sequential()\n",
        "    model.add(Conv2D(3, (2,2), padding='same', activation='relu', input_shape=(702, 256, 256)))\n",
        "    model.add(Conv2D(3, (2,2), activation='relu'))\n",
        "    \n",
        "    model.add(Flatten())\n",
        "    model.add(Dense(512, activation='relu'))\n",
        "    model.add(Dense(1, activation='sigmoid'))\n",
        "    \n",
        "    return model"
      ],
      "execution_count": 0,
      "outputs": []
    },
    {
      "cell_type": "code",
      "metadata": {
        "id": "SMbMWV3nctUa",
        "colab_type": "code",
        "colab": {
          "base_uri": "https://localhost:8080/",
          "height": 366
        },
        "outputId": "8dd5fd28-7ee3-4cb9-90fc-f75d7675226b"
      },
      "source": [
        "# Instantiate model.\n",
        "\n",
        "model = create_model()\n",
        "\n",
        "# Define parameters.\n",
        "\n",
        "epochs = 20\n",
        "batch_size = 256\n",
        "\n",
        "# Compile and fit.\n",
        "\n",
        "model.compile(optimizer='adam', loss=\"binary_crossentropy\", metrics=[\"accuracy\"])\n",
        "model.fit(X_train, y_train, epochs=epochs, batch_size=batch_size)"
      ],
      "execution_count": 31,
      "outputs": [
        {
          "output_type": "error",
          "ename": "ValueError",
          "evalue": "ignored",
          "traceback": [
            "\u001b[0;31m---------------------------------------------------------------------------\u001b[0m",
            "\u001b[0;31mValueError\u001b[0m                                Traceback (most recent call last)",
            "\u001b[0;32m<ipython-input-31-adc4ed4621b3>\u001b[0m in \u001b[0;36m<module>\u001b[0;34m()\u001b[0m\n\u001b[1;32m     10\u001b[0m \u001b[0;34m\u001b[0m\u001b[0m\n\u001b[1;32m     11\u001b[0m \u001b[0mmodel\u001b[0m\u001b[0;34m.\u001b[0m\u001b[0mcompile\u001b[0m\u001b[0;34m(\u001b[0m\u001b[0moptimizer\u001b[0m\u001b[0;34m=\u001b[0m\u001b[0;34m'adam'\u001b[0m\u001b[0;34m,\u001b[0m \u001b[0mloss\u001b[0m\u001b[0;34m=\u001b[0m\u001b[0;34m\"binary_crossentropy\"\u001b[0m\u001b[0;34m,\u001b[0m \u001b[0mmetrics\u001b[0m\u001b[0;34m=\u001b[0m\u001b[0;34m[\u001b[0m\u001b[0;34m\"accuracy\"\u001b[0m\u001b[0;34m]\u001b[0m\u001b[0;34m)\u001b[0m\u001b[0;34m\u001b[0m\u001b[0;34m\u001b[0m\u001b[0m\n\u001b[0;32m---> 12\u001b[0;31m \u001b[0mmodel\u001b[0m\u001b[0;34m.\u001b[0m\u001b[0mfit\u001b[0m\u001b[0;34m(\u001b[0m\u001b[0mX_train\u001b[0m\u001b[0;34m,\u001b[0m \u001b[0my_train\u001b[0m\u001b[0;34m,\u001b[0m \u001b[0mepochs\u001b[0m\u001b[0;34m=\u001b[0m\u001b[0mepochs\u001b[0m\u001b[0;34m,\u001b[0m \u001b[0mbatch_size\u001b[0m\u001b[0;34m=\u001b[0m\u001b[0mbatch_size\u001b[0m\u001b[0;34m)\u001b[0m\u001b[0;34m\u001b[0m\u001b[0;34m\u001b[0m\u001b[0m\n\u001b[0m",
            "\u001b[0;32m/usr/local/lib/python3.6/dist-packages/tensorflow/python/keras/engine/training.py\u001b[0m in \u001b[0;36mfit\u001b[0;34m(self, x, y, batch_size, epochs, verbose, callbacks, validation_split, validation_data, shuffle, class_weight, sample_weight, initial_epoch, steps_per_epoch, validation_steps, validation_freq, max_queue_size, workers, use_multiprocessing, **kwargs)\u001b[0m\n\u001b[1;32m    707\u001b[0m         \u001b[0msteps\u001b[0m\u001b[0;34m=\u001b[0m\u001b[0msteps_per_epoch\u001b[0m\u001b[0;34m,\u001b[0m\u001b[0;34m\u001b[0m\u001b[0;34m\u001b[0m\u001b[0m\n\u001b[1;32m    708\u001b[0m         \u001b[0mvalidation_split\u001b[0m\u001b[0;34m=\u001b[0m\u001b[0mvalidation_split\u001b[0m\u001b[0;34m,\u001b[0m\u001b[0;34m\u001b[0m\u001b[0;34m\u001b[0m\u001b[0m\n\u001b[0;32m--> 709\u001b[0;31m         shuffle=shuffle)\n\u001b[0m\u001b[1;32m    710\u001b[0m \u001b[0;34m\u001b[0m\u001b[0m\n\u001b[1;32m    711\u001b[0m     \u001b[0;31m# Prepare validation data.\u001b[0m\u001b[0;34m\u001b[0m\u001b[0;34m\u001b[0m\u001b[0;34m\u001b[0m\u001b[0m\n",
            "\u001b[0;32m/usr/local/lib/python3.6/dist-packages/tensorflow/python/keras/engine/training.py\u001b[0m in \u001b[0;36m_standardize_user_data\u001b[0;34m(self, x, y, sample_weight, class_weight, batch_size, check_steps, steps_name, steps, validation_split, shuffle, extract_tensors_from_dataset)\u001b[0m\n\u001b[1;32m   2649\u001b[0m           \u001b[0mfeed_input_shapes\u001b[0m\u001b[0;34m,\u001b[0m\u001b[0;34m\u001b[0m\u001b[0;34m\u001b[0m\u001b[0m\n\u001b[1;32m   2650\u001b[0m           \u001b[0mcheck_batch_axis\u001b[0m\u001b[0;34m=\u001b[0m\u001b[0;32mFalse\u001b[0m\u001b[0;34m,\u001b[0m  \u001b[0;31m# Don't enforce the batch size.\u001b[0m\u001b[0;34m\u001b[0m\u001b[0;34m\u001b[0m\u001b[0m\n\u001b[0;32m-> 2651\u001b[0;31m           exception_prefix='input')\n\u001b[0m\u001b[1;32m   2652\u001b[0m \u001b[0;34m\u001b[0m\u001b[0m\n\u001b[1;32m   2653\u001b[0m     \u001b[0;32mif\u001b[0m \u001b[0my\u001b[0m \u001b[0;32mis\u001b[0m \u001b[0;32mnot\u001b[0m \u001b[0;32mNone\u001b[0m\u001b[0;34m:\u001b[0m\u001b[0;34m\u001b[0m\u001b[0;34m\u001b[0m\u001b[0m\n",
            "\u001b[0;32m/usr/local/lib/python3.6/dist-packages/tensorflow/python/keras/engine/training_utils.py\u001b[0m in \u001b[0;36mstandardize_input_data\u001b[0;34m(data, names, shapes, check_batch_axis, exception_prefix)\u001b[0m\n\u001b[1;32m    374\u001b[0m                            \u001b[0;34m': expected '\u001b[0m \u001b[0;34m+\u001b[0m \u001b[0mnames\u001b[0m\u001b[0;34m[\u001b[0m\u001b[0mi\u001b[0m\u001b[0;34m]\u001b[0m \u001b[0;34m+\u001b[0m \u001b[0;34m' to have '\u001b[0m \u001b[0;34m+\u001b[0m\u001b[0;34m\u001b[0m\u001b[0;34m\u001b[0m\u001b[0m\n\u001b[1;32m    375\u001b[0m                            \u001b[0mstr\u001b[0m\u001b[0;34m(\u001b[0m\u001b[0mlen\u001b[0m\u001b[0;34m(\u001b[0m\u001b[0mshape\u001b[0m\u001b[0;34m)\u001b[0m\u001b[0;34m)\u001b[0m \u001b[0;34m+\u001b[0m \u001b[0;34m' dimensions, but got array '\u001b[0m\u001b[0;34m\u001b[0m\u001b[0;34m\u001b[0m\u001b[0m\n\u001b[0;32m--> 376\u001b[0;31m                            'with shape ' + str(data_shape))\n\u001b[0m\u001b[1;32m    377\u001b[0m         \u001b[0;32mif\u001b[0m \u001b[0;32mnot\u001b[0m \u001b[0mcheck_batch_axis\u001b[0m\u001b[0;34m:\u001b[0m\u001b[0;34m\u001b[0m\u001b[0;34m\u001b[0m\u001b[0m\n\u001b[1;32m    378\u001b[0m           \u001b[0mdata_shape\u001b[0m \u001b[0;34m=\u001b[0m \u001b[0mdata_shape\u001b[0m\u001b[0;34m[\u001b[0m\u001b[0;36m1\u001b[0m\u001b[0;34m:\u001b[0m\u001b[0;34m]\u001b[0m\u001b[0;34m\u001b[0m\u001b[0;34m\u001b[0m\u001b[0m\n",
            "\u001b[0;31mValueError\u001b[0m: Error when checking input: expected conv2d_3_input to have 4 dimensions, but got array with shape (702, 256, 256)"
          ]
        }
      ]
    },
    {
      "cell_type": "markdown",
      "metadata": {
        "colab_type": "text",
        "id": "uT3UV3gap9H6"
      },
      "source": [
        "# Resources and Stretch Goals\n",
        "\n",
        "Stretch goals\n",
        "- Enhance your code to use classes/functions and accept terms to search and classes to look for in recognizing the downloaded images (e.g. download images of parties, recognize all that contain balloons)\n",
        "- Check out [other available pretrained networks](https://tfhub.dev), try some and compare\n",
        "- Image recognition/classification is somewhat solved, but *relationships* between entities and describing an image is not - check out some of the extended resources (e.g. [Visual Genome](https://visualgenome.org/)) on the topic\n",
        "- Transfer learning - using images you source yourself, [retrain a classifier](https://www.tensorflow.org/hub/tutorials/image_retraining) with a new category\n",
        "- (Not CNN related) Use [piexif](https://pypi.org/project/piexif/) to check out the metadata of images passed in to your system - see if they're from a national park! (Note - many images lack GPS metadata, so this won't work in most cases, but still cool)\n",
        "\n",
        "Resources\n",
        "- [Deep Residual Learning for Image Recognition](https://arxiv.org/abs/1512.03385) - influential paper (introduced ResNet)\n",
        "- [YOLO: Real-Time Object Detection](https://pjreddie.com/darknet/yolo/) - an influential convolution based object detection system, focused on inference speed (for applications to e.g. self driving vehicles)\n",
        "- [R-CNN, Fast R-CNN, Faster R-CNN, YOLO](https://towardsdatascience.com/r-cnn-fast-r-cnn-faster-r-cnn-yolo-object-detection-algorithms-36d53571365e) - comparison of object detection systems\n",
        "- [Common Objects in Context](http://cocodataset.org/) - a large-scale object detection, segmentation, and captioning dataset\n",
        "- [Visual Genome](https://visualgenome.org/) - a dataset, a knowledge base, an ongoing effort to connect structured image concepts to language"
      ]
    }
  ]
}